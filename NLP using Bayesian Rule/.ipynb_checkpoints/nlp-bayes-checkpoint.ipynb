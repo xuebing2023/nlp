{
 "cells": [
  {
   "cell_type": "markdown",
   "metadata": {},
   "source": [
    "# use Naive Bayes to run sentiment analysis of tweets  \n",
    "Author: Xuebing-2023\n",
    "in this notebook, I will\n",
    "1. Preprocess the tweets\n",
    "2. train the naive bayes model\n",
    "3. predict the new sentence\n",
    "4. test the naive bayes model\n",
    "5. do some error analysis"
   ]
  },
  {
   "cell_type": "code",
   "execution_count": 85,
   "metadata": {},
   "outputs": [],
   "source": [
    "import nltk\n",
    "import string #for punctuation\n",
    "import re\n",
    "import os\n",
    "import numpy as np"
   ]
  },
  {
   "cell_type": "markdown",
   "metadata": {},
   "source": [
    "## download the data"
   ]
  },
  {
   "cell_type": "code",
   "execution_count": 2,
   "metadata": {},
   "outputs": [
    {
     "name": "stderr",
     "output_type": "stream",
     "text": [
      "[nltk_data] Downloading package twitter_samples to\n",
      "[nltk_data]     /Users/zhaosisi/nltk_data...\n",
      "[nltk_data]   Package twitter_samples is already up-to-date!\n"
     ]
    },
    {
     "data": {
      "text/plain": [
       "True"
      ]
     },
     "execution_count": 2,
     "metadata": {},
     "output_type": "execute_result"
    }
   ],
   "source": [
    "nltk.download('twitter_samples')"
   ]
  },
  {
   "cell_type": "code",
   "execution_count": 17,
   "metadata": {},
   "outputs": [
    {
     "name": "stdout",
     "output_type": "stream",
     "text": [
      "all_positive_tweets:  5000 \n",
      "all_negative_tweets:  5000\n"
     ]
    }
   ],
   "source": [
    "#get the positive and negative tweets\n",
    "all_positive_tweets = nltk.corpus.twitter_samples.strings('positive_tweets.json')\n",
    "all_negative_tweets = nltk.corpus.twitter_samples.strings('negative_tweets.json')\n",
    "print('all_positive_tweets: ',len(all_positive_tweets),'\\nall_negative_tweets: ',len(all_positive_tweets))"
   ]
  },
  {
   "cell_type": "code",
   "execution_count": 24,
   "metadata": {},
   "outputs": [
    {
     "name": "stdout",
     "output_type": "stream",
     "text": [
      "8000 8000 2000 2000\n"
     ]
    }
   ],
   "source": [
    "#split data into train and test sets use 0.8/0.2 rule\n",
    "train_x = all_positive_tweets[:4000] + all_negative_tweets[:4000]\n",
    "test_x = all_positive_tweets[4000:] + all_negative_tweets[4000:]\n",
    "\n",
    "train_y = np.append(np.ones(4000),np.zeros(4000))\n",
    "test_y = np.append(np.ones(1000), np.zeros(1000))\n",
    "print(len(train_x), len(train_y), len(test_x), len(test_y))"
   ]
  },
  {
   "cell_type": "markdown",
   "metadata": {},
   "source": [
    "## preprocessing the sentence\n",
    "1. lowercase\n",
    "2. remove url\n",
    "3. remove stop words\n",
    "4. stemming"
   ]
  },
  {
   "cell_type": "code",
   "execution_count": 45,
   "metadata": {},
   "outputs": [],
   "source": [
    "def process_tweet(tweet):\n",
    "    '''\n",
    "    Input:\n",
    "        tweet: a string containing a tweet\n",
    "    Output:\n",
    "        tweets_clean: a list of words containing the processed tweet\n",
    "    '''\n",
    "    stemmer = nltk.stem.PorterStemmer()\n",
    "    stopwords_english = nltk.corpus.stopwords.words('english')\n",
    "    tokenizer = nltk.tokenize.TweetTokenizer(preserve_case=False, strip_handles=True, reduce_len=True)\n",
    "    # remove stock market tickers like $GE\n",
    "    tweet = re.sub(r'\\$\\w*', '', tweet)\n",
    "    # remove old style retweet text \"RT\"\n",
    "    tweet = re.sub(r'^RT[\\s]+', '', tweet)\n",
    "    # remove hyperlinks\n",
    "    tweet = re.sub(r'https?://[^\\s\\n\\r]+', '', tweet)\n",
    "    # remove hashtags\n",
    "    tweet = re.sub(r'#', '', tweet)\n",
    "    # tokenize tweets\n",
    "    tweet_tokens = tokenizer.tokenize(tweet)\n",
    "    tweets_clean = []\n",
    "    for word in tweet_tokens:\n",
    "        if (word not in stopwords_english and  # remove stopwords\n",
    "                word not in string.punctuation):  # remove punctuation\n",
    "            stem_word = stemmer.stem(word)  # stemming word\n",
    "            tweets_clean.append(stem_word)\n",
    "\n",
    "    return tweets_clean"
   ]
  },
  {
   "cell_type": "code",
   "execution_count": 47,
   "metadata": {},
   "outputs": [
    {
     "name": "stdout",
     "output_type": "stream",
     "text": [
      "['hello', 'great', 'day', ':)', 'good', 'morn']\n"
     ]
    }
   ],
   "source": [
    "#example:\n",
    "custom_tweet = \"RT @Twitter @chapagain Hello There! Have a great day. :) #good #morning http://chapagain.com.np\"\n",
    "print(process_tweet(custom_tweet))"
   ]
  },
  {
   "cell_type": "markdown",
   "metadata": {},
   "source": [
    "## build the vocabulary of frequencies\n",
    "1. for all the training dataset, train_x and train_y, use it to build a dic\n",
    "2. the dic contains {(word, sentiment): ct}"
   ]
  },
  {
   "cell_type": "code",
   "execution_count": 50,
   "metadata": {},
   "outputs": [],
   "source": [
    "def count_tweets(tweets, y_sentiment):\n",
    "    '''\n",
    "    Input:\n",
    "        tweets: a list of tweets\n",
    "        y_sentiment: a list corresponding to the sentiment of each tweet (either 0 or 1)\n",
    "    Output:\n",
    "        vocabulary: a dictionary mapping each pair to its frequency\n",
    "    '''\n",
    "    vocabulary = {}\n",
    "    for tweet,y in zip(tweets, y_sentiment):\n",
    "        words = process_tweet(tweet)\n",
    "        for word in words:\n",
    "            # define the key, which is the word and label tuple\n",
    "            pair = (word, y)\n",
    "            vocabulary[pair] = vocabulary.get(pair,0) + 1\n",
    "    return vocabulary"
   ]
  },
  {
   "cell_type": "code",
   "execution_count": 51,
   "metadata": {},
   "outputs": [
    {
     "data": {
      "text/plain": [
       "{('happi', 1): 1, ('trick', 0): 1, ('sad', 0): 1, ('tire', 0): 2}"
      ]
     },
     "execution_count": 51,
     "metadata": {},
     "output_type": "execute_result"
    }
   ],
   "source": [
    "#example:\n",
    "tweets = ['i am happy', 'i am tricked', 'i am sad', 'i am tired', 'i am tired']\n",
    "ys = [1, 0, 0, 0, 0]\n",
    "count_tweets(tweets, ys)"
   ]
  },
  {
   "cell_type": "code",
   "execution_count": 54,
   "metadata": {},
   "outputs": [
    {
     "data": {
      "text/plain": [
       "11430"
      ]
     },
     "execution_count": 54,
     "metadata": {},
     "output_type": "execute_result"
    }
   ],
   "source": [
    "#here to build the frequency for all the training x and y for later use\n",
    "freqs = count_tweets(train_x, train_y)\n",
    "len(freqs)"
   ]
  },
  {
   "cell_type": "markdown",
   "metadata": {},
   "source": [
    "## train the naive bayes\n",
    "1. logprior is $log(D_{pos}) - log(D_{neg})$\n",
    "    - $D_{pos}$ is number of positive training sample(tweets)\n",
    "    - $D_{neg}$ is number of positive training sample(tweets)\n",
    "2. loglikelihood: $log \\left( \\frac{P(W_{pos})}{P(W_{neg})} \\right)$\n",
    "    - $ P(W_{pos}) = \\frac{freq_{pos} + 1}{N_{pos} + V} , P(W_{neg}) = \\frac{freq_{neg} + 1}{N_{neg} + V}$\n",
    "    - $freq_{pos},freq_{neg}$ is the ct of frequency of the single word showed up in pos/neg vocabulary\n",
    "    - $N_{pos}, N_{neg}$ is the sum of ct of all the pos/neg vocabulary\n",
    "    - V is the number of unique word in vocabulary\n",
    "    "
   ]
  },
  {
   "cell_type": "code",
   "execution_count": 56,
   "metadata": {},
   "outputs": [],
   "source": [
    "def train_naive_bayes(freqs, train_x, train_y):\n",
    "    '''\n",
    "    Input:\n",
    "        freqs: dictionary from (word, sentiment) to how often the word appears\n",
    "        train_x: a list of tweets\n",
    "        train_y: a list of labels correponding to the tweets (0,1)\n",
    "    Output:\n",
    "        logprior: the log prior\n",
    "        loglikelihood: the log likelihood of you Naive bayes equation\n",
    "    '''\n",
    "    loglikelihood = {}\n",
    "    logprior = 0.0\n",
    "   \n",
    "    # Calculate D_pos, D_neg, the number of documents\n",
    "    D_pos = train_y.sum()\n",
    "    D_neg = len(train_y) - D_pos\n",
    "    # Calculate logprior\n",
    "    logprior = np.log(D_pos) - np.log(D_neg)\n",
    "    \n",
    "    \n",
    "    # calculate V, the number of unique words in the vocabulary\n",
    "    unique_vocab = set(pair[0] for pair in freqs)\n",
    "    V = len(unique_vocab) \n",
    "    # calculate N_pos, N_neg, V_pos, V_neg from the vocabulary freqs\n",
    "    N_pos = N_neg = 0\n",
    "    for pair in freqs.keys():\n",
    "        # positive_sentiment\n",
    "        if pair[1] > 0:\n",
    "            N_pos += freqs[pair]\n",
    "        # else, the label is negative\n",
    "        else:\n",
    "            N_neg += freqs[pair]\n",
    "\n",
    "    for word in unique_vocab:\n",
    "        # get the positive and negative frequency of the word\n",
    "        freq_pos = freqs.get((word,1.0),0)\n",
    "        freq_neg = freqs.get((word,0.0),0)\n",
    "\n",
    "        # calculate the probability that each word is positive, and negative\n",
    "        p_w_pos = (freq_pos + 1)/(N_pos + V)\n",
    "        p_w_neg = (freq_neg + 1)/(N_neg + V)\n",
    "\n",
    "        # calculate the log likelihood of the word\n",
    "        loglikelihood[word] = np.log(p_w_pos) - np.log(p_w_neg)#np.log(p_w_pos/p_w_neg)\n",
    "    return logprior, loglikelihood"
   ]
  },
  {
   "cell_type": "code",
   "execution_count": 57,
   "metadata": {},
   "outputs": [
    {
     "name": "stdout",
     "output_type": "stream",
     "text": [
      "0.0\n",
      "9161\n"
     ]
    }
   ],
   "source": [
    "logprior, loglikelihood = train_naive_bayes(freqs, train_x, train_y)\n",
    "print(logprior)\n",
    "print(len(loglikelihood))"
   ]
  },
  {
   "cell_type": "markdown",
   "metadata": {},
   "source": [
    "# predict the Naive Bayes model\n",
    "1. calculate the probability that the tweet belongs to the positive or negative class.\n",
    "2. $ p = logprior + \\sum_i^N (loglikelihood_i)$\n",
    "3. For each tweet, sum up loglikelihoods of each word in the tweet and add the logprior"
   ]
  },
  {
   "cell_type": "code",
   "execution_count": 58,
   "metadata": {},
   "outputs": [],
   "source": [
    "def naive_bayes_predict(tweet, logprior, loglikelihood):\n",
    "    '''\n",
    "    Input:\n",
    "        tweet: a string\n",
    "        logprior: a number\n",
    "        loglikelihood: a dictionary of words mapping to numbers\n",
    "    Output:\n",
    "        p: the sum of all the logliklihoods of each word in the tweet (if found in the dictionary) + logprior (a number)\n",
    "\n",
    "    '''\n",
    "    # process the tweet to get a list of words\n",
    "    words = process_tweet(tweet)\n",
    "\n",
    "    # initialize probability to zero\n",
    "    p = logprior\n",
    "\n",
    "    for word in words:\n",
    "\n",
    "        p += loglikelihood.get(word,0)\n",
    "\n",
    "    ### END CODE HERE ###\n",
    "\n",
    "    return p"
   ]
  },
  {
   "cell_type": "code",
   "execution_count": 63,
   "metadata": {},
   "outputs": [
    {
     "name": "stdout",
     "output_type": "stream",
     "text": [
      "The expected output is 1.967074372229086\n"
     ]
    }
   ],
   "source": [
    "#example: \n",
    "my_tweet = 'my dog looks very happy'\n",
    "p = naive_bayes_predict(my_tweet, logprior, loglikelihood)\n",
    "print('The expected output is', p)"
   ]
  },
  {
   "cell_type": "markdown",
   "metadata": {},
   "source": [
    "## test the model\n",
    "1. only use prior and the loglikelihood dic, can predict the test_y"
   ]
  },
  {
   "cell_type": "code",
   "execution_count": 74,
   "metadata": {},
   "outputs": [],
   "source": [
    "def test_naive_bayes(test_x, test_y, logprior, loglikelihood):\n",
    "    \"\"\"\n",
    "    Input:\n",
    "        test_x: a list of tweets\n",
    "        test_y: the corresponding labels for the list of tweets\n",
    "        logprior: the logprior\n",
    "        loglikelihood: a dictionary with the loglikelihoods for each word\n",
    "    Output:\n",
    "        accuracy: (# of tweets classified correctly)/(total # of tweets)\n",
    "    \"\"\"\n",
    "    y_hats = []\n",
    "    for tweet in test_x:\n",
    "        p = naive_bayes_predict(tweet, logprior, loglikelihood)\n",
    "        if p > 0: y_hats.append(1)\n",
    "        else: y_hats.append(0)\n",
    "    error = sum(y_hats != test_y)\n",
    "    accuracy = 1- error/len(test_y)\n",
    "\n",
    "    return accuracy"
   ]
  },
  {
   "cell_type": "code",
   "execution_count": 75,
   "metadata": {},
   "outputs": [
    {
     "name": "stdout",
     "output_type": "stream",
     "text": [
      "Naive Bayes accuracy = 0.9955\n"
     ]
    }
   ],
   "source": [
    "accuracy= test_naive_bayes(test_x, test_y, logprior, loglikelihood)\n",
    "print(\"Naive Bayes accuracy = %0.4f\" %(accuracy))"
   ]
  },
  {
   "cell_type": "markdown",
   "metadata": {},
   "source": [
    "## Error analysis\n",
    "1. for some of the miss classified data points, print the tweet, find out what's going wrong\n",
    "    - human is good at Adversarial attacks (Sarcasm, Irony and Euphemisms), machine does not"
   ]
  },
  {
   "cell_type": "code",
   "execution_count": 84,
   "metadata": {},
   "outputs": [
    {
     "name": "stdout",
     "output_type": "stream",
     "text": [
      "Truth Predicted Tweet\n",
      "1.0 0.0 @jaredNOTsubway @iluvmariah @Bravotv Then that truly is a LATERAL move! Now, we all know the Queen Bee is UPWARD BOUND : ) #MovingOnUp\n",
      "1.0 0.0 A new report talks about how we burn more calories in the cold, because we work harder to warm up. Feel any better about the weather? :p\n",
      "1.0 0.0 Harry and niall and -94 (when harry was born) ik it's stupid and i wanna change it :D https://t.co/gHAt8ZDAfF\n",
      "1.0 0.0 off to the park to get some sunlight : )\n",
      "1.0 0.0 @msarosh Uff Itna Miss karhy thy ap :p\n",
      "0.0 1.0 @rcdlccom hello, any info about possible interest in Jonathas ?? He is close to join Betis :( greatings\n",
      "0.0 1.0 @phenomyoutube u probs had more fun with david than me : (\n",
      "0.0 1.0 pats jay : (\n",
      "0.0 1.0 Sr. Financial Analyst - Expedia, Inc.: (#Bellevue, WA) http://t.co/ktknMhvwCI #Finance #ExpediaJobs #Job #Jobs #Hiring\n"
     ]
    }
   ],
   "source": [
    "print('Truth Predicted Tweet')\n",
    "for x,y in zip(test_x, test_y):\n",
    "    p = naive_bayes_predict(x, logprior, loglikelihood)\n",
    "    y_hat_i = 1.0 if p>0 else 0.0\n",
    "    if y != y_hat_i: \n",
    "        print(y, y_hat_i, x)"
   ]
  }
 ],
 "metadata": {
  "kernelspec": {
   "display_name": "Python 3",
   "language": "python",
   "name": "python3"
  },
  "language_info": {
   "codemirror_mode": {
    "name": "ipython",
    "version": 3
   },
   "file_extension": ".py",
   "mimetype": "text/x-python",
   "name": "python",
   "nbconvert_exporter": "python",
   "pygments_lexer": "ipython3",
   "version": "3.7.9"
  }
 },
 "nbformat": 4,
 "nbformat_minor": 4
}

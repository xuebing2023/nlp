{
 "cells": [
  {
   "cell_type": "markdown",
   "metadata": {},
   "source": [
    "# use Logistic Regression to run sentiment analysis of tweets  \n",
    "Author: Xuebing-2023\n",
    "in this notebook, I will\n",
    "1. Preprocess the tweets\n",
    "2. train the logstic regression model\n",
    "3. predict the new sentence\n",
    "4. test the naive bayes model\n",
    "5. do some error analysis"
   ]
  },
  {
   "cell_type": "code",
   "execution_count": 158,
   "metadata": {},
   "outputs": [],
   "source": [
    "import nltk\n",
    "import string\n",
    "import numpy as np\n",
    "import re\n"
   ]
  },
  {
   "cell_type": "code",
   "execution_count": 159,
   "metadata": {},
   "outputs": [
    {
     "name": "stdout",
     "output_type": "stream",
     "text": [
      "all_positive_tweets:  5000 \n",
      "all_negative_tweets:  5000\n"
     ]
    }
   ],
   "source": [
    "#get the positive and negative tweets\n",
    "all_positive_tweets = nltk.corpus.twitter_samples.strings('positive_tweets.json')\n",
    "all_negative_tweets = nltk.corpus.twitter_samples.strings('negative_tweets.json')\n",
    "print('all_positive_tweets: ',len(all_positive_tweets),'\\nall_negative_tweets: ',len(all_positive_tweets))"
   ]
  },
  {
   "cell_type": "code",
   "execution_count": 167,
   "metadata": {},
   "outputs": [
    {
     "name": "stdout",
     "output_type": "stream",
     "text": [
      "8000 8000 2000 2000\n"
     ]
    }
   ],
   "source": [
    "#split data into train and test sets use 0.8/0.2 rule\n",
    "train_x = all_positive_tweets[:4000] + all_negative_tweets[:4000]\n",
    "test_x = all_positive_tweets[4000:] + all_negative_tweets[4000:]\n",
    "\n",
    "train_y = np.append(np.ones((4000,1)),np.zeros((4000,1)), axis = 0)\n",
    "test_y = np.append(np.ones((1000,1)), np.zeros((1000,1)), axis = 0)\n",
    "print(len(train_x), len(train_y), len(test_x), len(test_y))"
   ]
  },
  {
   "cell_type": "code",
   "execution_count": 168,
   "metadata": {},
   "outputs": [
    {
     "data": {
      "text/plain": [
       "(8000, 1)"
      ]
     },
     "execution_count": 168,
     "metadata": {},
     "output_type": "execute_result"
    }
   ],
   "source": [
    "train_y.shape"
   ]
  },
  {
   "cell_type": "markdown",
   "metadata": {},
   "source": [
    "## preprocessing the sentence\n",
    "1. lowercase\n",
    "2. remove url\n",
    "3. remove stop words\n",
    "4. stemming"
   ]
  },
  {
   "cell_type": "code",
   "execution_count": 16,
   "metadata": {},
   "outputs": [],
   "source": [
    "def process_tweet(tweet):\n",
    "    '''\n",
    "    Input:\n",
    "        tweet: a string containing a tweet\n",
    "    Output:\n",
    "        tweets_clean: a list of words containing the processed tweet\n",
    "    '''\n",
    "    #need the package re, string, numpy and nltk\n",
    "    stemmer = nltk.stem.PorterStemmer()\n",
    "    stopwords_english = nltk.corpus.stopwords.words('english')\n",
    "    tokenizer = nltk.tokenize.TweetTokenizer(preserve_case=False, strip_handles=True, reduce_len=True)\n",
    "    # remove stock market tickers like $GE\n",
    "    tweet = re.sub(r'\\$\\w*', '', tweet)\n",
    "    # remove old style retweet text \"RT\"\n",
    "    tweet = re.sub(r'^RT[\\s]+', '', tweet)\n",
    "    # remove hyperlinks\n",
    "    tweet = re.sub(r'https?://[^\\s\\n\\r]+', '', tweet)\n",
    "    # remove hashtags\n",
    "    tweet = re.sub(r'#', '', tweet)\n",
    "    # tokenize tweets\n",
    "    tweet_tokens = tokenizer.tokenize(tweet)\n",
    "    tweets_clean = []\n",
    "    for word in tweet_tokens:\n",
    "        if (word not in stopwords_english and  # remove stopwords\n",
    "                word not in string.punctuation):  # remove punctuation\n",
    "            stem_word = stemmer.stem(word)  # stemming word\n",
    "            tweets_clean.append(stem_word)\n",
    "\n",
    "    return tweets_clean"
   ]
  },
  {
   "cell_type": "code",
   "execution_count": 17,
   "metadata": {},
   "outputs": [
    {
     "name": "stdout",
     "output_type": "stream",
     "text": [
      "['hello', 'great', 'day', ':)', 'good', 'morn']\n"
     ]
    }
   ],
   "source": [
    "#example:\n",
    "custom_tweet = \"RT @Twitter @chapagain Hello There! Have a great day. :) #good #morning http://chapagain.com.np\"\n",
    "print(process_tweet(custom_tweet))"
   ]
  },
  {
   "cell_type": "code",
   "execution_count": 18,
   "metadata": {},
   "outputs": [
    {
     "name": "stdout",
     "output_type": "stream",
     "text": [
      "['followfriday', 'top', 'engag', 'member', 'commun', 'week', ':)']\n"
     ]
    }
   ],
   "source": [
    "#example:\n",
    "first_tweet = train_x[0]\n",
    "print(process_tweet(first_tweet))"
   ]
  },
  {
   "cell_type": "markdown",
   "metadata": {},
   "source": [
    "## sigmoid function\n",
    "1. the core of logistic regression: $ h(z) = \\frac{1}{1+\\exp^{-z}} $"
   ]
  },
  {
   "cell_type": "code",
   "execution_count": 20,
   "metadata": {},
   "outputs": [],
   "source": [
    "def sigmoid(z): \n",
    "    '''\n",
    "    Input:\n",
    "        z: is the input (can be a scalar or an array)\n",
    "    Output:\n",
    "        h: the sigmoid of z\n",
    "    '''\n",
    "    # calculate the sigmoid of z\n",
    "    h = 1/(1+np.exp(-z))\n",
    "    \n",
    "    return h"
   ]
  },
  {
   "cell_type": "code",
   "execution_count": 22,
   "metadata": {},
   "outputs": [
    {
     "name": "stdout",
     "output_type": "stream",
     "text": [
      "an array:  [0.73105858 0.5        0.88079708 0.95257413]\n",
      "a scalar:  0.9525741268224334\n"
     ]
    }
   ],
   "source": [
    "# example:\n",
    "a = np.array([1,0,2,3])\n",
    "print('an array: ', sigmoid(a))\n",
    "b = 3\n",
    "print('a scalar: ', sigmoid(b))"
   ]
  },
  {
   "cell_type": "markdown",
   "metadata": {},
   "source": [
    "# Logistic: regression + sigmoid function\n",
    "1. Regression: $z = \\theta_0 x_0 + \\theta_1 x_1 + \\theta_2 x_2 + ... \\theta_N x_N$\n",
    "    - the $\\theta$ values are \"weights\", with the 'w' vector.\n",
    "> calculation: $J = \\frac{-1}{m} \\times \\left(\\mathbf{y}^T \\cdot log(\\mathbf{h}) + \\mathbf{(1-y)}^T \\cdot log(\\mathbf{1-h}) \\right)$\n",
    "\n",
    "2. Logistic regression: $ h(z) = \\frac{1}{1+\\exp^{-z}}$\n",
    "    - 'z' as the 'logits'.\n",
    "    \n",
    "# Cost function(all dp), loss function(single dp) and Gradient\n",
    "1. cost function: $J(\\theta) = -\\frac{1}{m} \\sum_{i=1}^m y^{(i)}\\log (h(z(\\theta)^{(i)})) + (1-y^{(i)})\\log (1-h(z(\\theta)^{(i)})) $\n",
    "    - $m$ is the number of training examples\n",
    "    - $y^{(i)}$ is the actual label of training example 'i'.\n",
    "    - $h(z^{(i)})$ is the model's prediction for the training example 'i'.\n",
    "    \n",
    "2. loss function: $ Loss = -1 \\times \\left( y^{(i)}\\log (h(z(\\theta)^{(i)})) + (1-y^{(i)})\\log (1-h(z(\\theta)^{(i)})) \\right)$   \n",
    "    - All the $h$ values are between 0 and 1, so the logs will be negative. That is the reason for the factor of -1 applied to the sum of the two loss terms.\n",
    "    - when the model predicts 1 ($h(z(\\theta)) = 1$) and the label 'y' is also 1, the loss for that training example is 0. \n",
    "    - when the model predicts 0 ($h(z(\\theta)) = 0$) and the actual label is also 0, the loss for that training example is 0. \n",
    "    - However, when the model prediction is close to 1 ($h(z(\\theta)) = 0.9999$) and the label is 0, the second term of the log loss becomes a large negative number, which is then multiplied by the overall factor of -1 to convert it to a positive loss value. $-1 \\times (1 - 0) \\times log(1 - 0.9999) \\approx 9.2$ The closer the model prediction gets to 1, the larger the loss.\n",
    "    \n",
    "3. The gradient of the cost function $J$ with respect to one of the weights $\\theta_j$ is:\n",
    "$\\nabla_{\\theta_j}J(\\theta) = \\frac{1}{m} \\sum_{i=1}^m(h^{(i)}-y^{(i)})x^{(i)}_j $\n",
    "    - 'i' is the index across all 'm' training examples.\n",
    "    - 'j' is the index of the weight $\\theta_j$, so $x^{(i)}_j$ is the feature associated with weight $\\theta_j$\n",
    "    - update the gradient of $\\theta_j$ by subtracting a fraction of the gradient determined by $\\alpha$: $\\theta_j = \\theta_j - \\alpha \\times \\nabla_{\\theta_j}J(\\theta) $\n",
    "> calculation: $\\mathbf{\\theta} = \\mathbf{\\theta} - \\frac{\\alpha}{m} \\times \\left( \\mathbf{x}^T \\cdot \\left( \\mathbf{h-y} \\right) \\right)$\n",
    "    - The learning rate $\\alpha$ is a value choose to control how big a single update will be.\n",
    "\n"
   ]
  },
  {
   "cell_type": "code",
   "execution_count": 171,
   "metadata": {},
   "outputs": [],
   "source": [
    "def gradientDescent(x, y, theta, alpha, num_iters):\n",
    "    '''\n",
    "    Input:\n",
    "        x: matrix of features which is (m,n+1)\n",
    "        y: corresponding labels of the input matrix x, dimensions (m,1)\n",
    "        theta: weight vector of dimension (n+1,1)\n",
    "        alpha: learning rate\n",
    "        num_iters: number of iterations you want to train your model for\n",
    "    Output:\n",
    "        J: the final cost\n",
    "        theta: final weight vector\n",
    "    '''\n",
    "    # get 'm', the number of rows in matrix x\n",
    "    m = x.shape[0]\n",
    "    J_iter = []\n",
    "    for i in range(0, num_iters):\n",
    "        \n",
    "        # get z, the dot product of x and theta\n",
    "        z = np.dot(x,theta)\n",
    "        \n",
    "        # get the sigmoid of z\n",
    "        h = sigmoid(z)\n",
    "        \n",
    "        # calculate the cost function\n",
    "        J = (-1/m) * sum((np.dot(y.T, np.log(h)) + np.dot((1-y).T, np.log(1-h))))\n",
    "        \n",
    "        J_iter.append(J)\n",
    "        # update the weights theta\n",
    "        theta = theta - (alpha/m)*np.dot(x.T,(h-y))\n",
    "    J = float(J)     \n",
    "    return J, theta , J_iter\n"
   ]
  },
  {
   "cell_type": "code",
   "execution_count": 177,
   "metadata": {},
   "outputs": [
    {
     "name": "stdout",
     "output_type": "stream",
     "text": [
      "The cost after training is 0.62815242.\n",
      "The resulting vector of weights is [3.49e-06, 0.00201995, -0.00066304]\n"
     ]
    }
   ],
   "source": [
    "#example\n",
    "np.random.seed(1)\n",
    "# X input is 10 x 3 with ones for the bias terms\n",
    "tmp_X = np.append(np.ones((10, 1)), np.random.rand(10, 2) * 2000, axis=1)\n",
    "# Y Labels are 10 x 1\n",
    "tmp_Y = (np.random.rand(10, 1) > 0.35).astype(float)\n",
    "\n",
    "# Apply gradient descent\n",
    "tmp_J, tmp_theta, J_list = gradientDescent(x = tmp_X, y = tmp_Y, theta = np.zeros((3, 1)), alpha = 1e-8, num_iters = 10000)\n",
    "print(f\"The cost after training is {tmp_J:.8f}.\")\n",
    "print(f\"The resulting vector of weights is {[round(t, 8) for t in np.squeeze(tmp_theta)]}\")"
   ]
  },
  {
   "cell_type": "code",
   "execution_count": 178,
   "metadata": {},
   "outputs": [
    {
     "data": {
      "image/png": "[encoded data removed]",
      "text/plain": [
       "<Figure size 432x288 with 1 Axes>"
      ]
     },
     "metadata": {
      "needs_background": "light"
     },
     "output_type": "display_data"
    }
   ],
   "source": [
    "#plot the cost function\n",
    "import matplotlib.pyplot as plt\n",
    "from importlib import reload\n",
    "\n",
    "plt.plot(J_list)\n",
    "plt.title(\"cost function decrease with more iterations\")\n",
    "plt.show()"
   ]
  },
  {
   "cell_type": "markdown",
   "metadata": {},
   "source": [
    "## build the vocabulary of frequencies\n",
    "1. for all the training dataset, train_x and train_y, use it to build a dic\n",
    "2. the dic contains {(word, sentiment): ct}"
   ]
  },
  {
   "cell_type": "code",
   "execution_count": 122,
   "metadata": {},
   "outputs": [],
   "source": [
    "def count_tweets(tweets, y_sentiment):\n",
    "    '''\n",
    "    Input:\n",
    "        tweets: a list of tweets\n",
    "        y_sentiment: a list corresponding to the sentiment of each tweet (either 0 or 1)\n",
    "    Output:\n",
    "        vocabulary: a dictionary mapping each pair to its frequency\n",
    "    '''\n",
    "    vocabulary = {}\n",
    "    for tweet,y in zip(tweets, y_sentiment):\n",
    "        words = process_tweet(tweet)\n",
    "        for word in words:\n",
    "            # define the key, which is the word and label tuple\n",
    "            pair = (word, y)\n",
    "            vocabulary[pair] = vocabulary.get(pair,0) + 1\n",
    "    return vocabulary"
   ]
  },
  {
   "cell_type": "code",
   "execution_count": 123,
   "metadata": {},
   "outputs": [
    {
     "data": {
      "text/plain": [
       "11430"
      ]
     },
     "execution_count": 123,
     "metadata": {},
     "output_type": "execute_result"
    }
   ],
   "source": [
    "#here to build the frequency for all the training x and y for later use\n",
    "freqs = count_tweets(train_x, train_y)\n",
    "len(freqs)"
   ]
  },
  {
   "cell_type": "markdown",
   "metadata": {},
   "source": [
    "## Extracting the Features\n",
    "1. extract two features from a tweet sentence: \n",
    "    - number of words showed up in the positive vocabulary\n",
    "    - number of words showed up in the negative vocabulary\n"
   ]
  },
  {
   "cell_type": "code",
   "execution_count": 174,
   "metadata": {},
   "outputs": [],
   "source": [
    "def extract_features(tweet, freqs):\n",
    "    '''\n",
    "    Input: \n",
    "        tweet: a list of words for one tweet\n",
    "        freqs: a dictionary corresponding to the frequencies of each tuple (word, label)\n",
    "    Output: \n",
    "        x: a feature vector of dimension (1,3)\n",
    "    '''\n",
    "    # process_tweet tokenizes, stems, and removes stopwords\n",
    "    words = process_tweet(tweet)\n",
    "    \n",
    "    # 3 elements for [bias, positive, negative] counts\n",
    "    x = np.zeros(3) \n",
    "    x[0] = 1 \n",
    "    for word in words:\n",
    "        x[1] += freqs.get((word, 1.0),0)\n",
    "        x[2] += freqs.get((word, 0.0),0)\n",
    "    x = x[None, :]  #from dimension x3 to 1x3\n",
    "    assert(x.shape == (1, 3))\n",
    "    return x"
   ]
  },
  {
   "cell_type": "code",
   "execution_count": 175,
   "metadata": {},
   "outputs": [
    {
     "data": {
      "text/plain": [
       "array([[1.000e+00, 3.133e+03, 6.100e+01]])"
      ]
     },
     "execution_count": 175,
     "metadata": {},
     "output_type": "execute_result"
    }
   ],
   "source": [
    "# example:\n",
    "extract_features(train_x[0], freqs)"
   ]
  },
  {
   "cell_type": "markdown",
   "metadata": {},
   "source": [
    "## train the model\n",
    "1. for each train_x, use the feature extraction function to extract to three numbers\n",
    "2. use it along with train_y label to trian the model"
   ]
  },
  {
   "cell_type": "code",
   "execution_count": 185,
   "metadata": {},
   "outputs": [
    {
     "name": "stdout",
     "output_type": "stream",
     "text": [
      "The cost after training is 0.10158945.\n",
      "The resulting vector of weights is [[ 3.06161722e-07]\n",
      " [ 1.27534877e-03]\n",
      " [-1.10909177e-03]]\n"
     ]
    }
   ],
   "source": [
    "#feature eng all train_x\n",
    "X = np.zeros((len(train_x), 3))\n",
    "for i in range(len(train_x)):\n",
    "    X[i, :]= extract_features(train_x[i], freqs)\n",
    "\n",
    "# training labels corresponding to X\n",
    "Y = train_y\n",
    "\n",
    "# Apply gradient descent-adjust the alpha and number iters to get a curve of J list\n",
    "J, theta,J_list = gradientDescent(x = X, y = Y, theta = np.zeros((3, 1)), alpha = 1e-8, num_iters = 1000)\n",
    "print(f\"The cost after training is {J:.8f}.\")\n",
    "print(f\"The resulting vector of weights is {theta}\")"
   ]
  },
  {
   "cell_type": "code",
   "execution_count": 186,
   "metadata": {},
   "outputs": [
    {
     "data": {
      "image/png": "[encoded data removed]",
      "text/plain": [
       "<Figure size 432x288 with 1 Axes>"
      ]
     },
     "metadata": {
      "needs_background": "light"
     },
     "output_type": "display_data"
    }
   ],
   "source": [
    "plt.plot(J_list)\n",
    "plt.title(\"cost function decrease with more iterations\")\n",
    "plt.show()"
   ]
  },
  {
   "cell_type": "markdown",
   "metadata": {},
   "source": [
    "## predict\n",
    "1. Given a tweet, process it, then extract the features.\n",
    "2. Apply the model's learned weights on the features to get the logits.\n",
    "3. Apply the sigmoid to the logits to get the prediction (a value between 0 and 1\n",
    "    - $y_{pred} = sigmoid(\\mathbf{x} \\cdot \\theta)$"
   ]
  },
  {
   "cell_type": "code",
   "execution_count": 187,
   "metadata": {},
   "outputs": [],
   "source": [
    "def predict_tweet(tweet, freqs, theta):\n",
    "    '''\n",
    "    Input: \n",
    "        tweet: a string\n",
    "        freqs: a dictionary corresponding to the frequencies of each tuple (word, label)\n",
    "        theta: (3,1) vector of weights\n",
    "    Output: \n",
    "        y_pred: the probability of a tweet being positive or negative\n",
    "    '''\n",
    "    # extract the features\n",
    "    x = extract_features(tweet, freqs)\n",
    "    \n",
    "    # make the prediction using x and theta\n",
    "    y_pred = sigmoid(np.dot(x,theta))\n",
    "    return y_pred"
   ]
  },
  {
   "cell_type": "code",
   "execution_count": 190,
   "metadata": {},
   "outputs": [
    {
     "name": "stdout",
     "output_type": "stream",
     "text": [
      "0.546526 -> I am happy\n",
      "0.489493 -> I am bad\n",
      "0.539508 -> this movie should have been great.\n",
      "0.538806 -> great\n",
      "0.577147 -> great great\n",
      "0.614580 -> great great great\n",
      "0.650706 -> great great great great\n",
      "0.500730 -> get out of the house\n",
      "0.496242 -> what's wrong with you\n"
     ]
    }
   ],
   "source": [
    "tweets = ['I am happy'\n",
    "          , 'I am bad'\n",
    "          , 'this movie should have been great.'\n",
    "          , 'great', 'great great'\n",
    "          , 'great great great'\n",
    "          , 'great great great great'\n",
    "          , 'get out of the house'\n",
    "          , \"what's wrong with you\"]\n",
    "for tweet in tweets:\n",
    "    print( '%f -> %s' % (predict_tweet(tweet, freqs, theta), tweet))\n",
    "    "
   ]
  },
  {
   "cell_type": "markdown",
   "metadata": {},
   "source": [
    "## test the model\n",
    "1. use the above mentioned prediction method, apply to the test dataset\n",
    "2. compare y_pred with y_test\n",
    "3. If the prediction is > 0.5, set the model's classification 'y_hat' to 1, otherwise set the model's classification 'y_hat' to 0.\n",
    "4. A prediction is accurate when the y_hat equals the test_y.  Sum up all the instances when they are equal and divide by m."
   ]
  },
  {
   "cell_type": "code",
   "execution_count": 191,
   "metadata": {},
   "outputs": [],
   "source": [
    "def test_logistic_regression(test_x, test_y, freqs, theta):\n",
    "    \"\"\"\n",
    "    Input: \n",
    "        test_x: a list of tweets\n",
    "        test_y: (m, 1) vector with the corresponding labels for the list of tweets\n",
    "        freqs: a dictionary with the frequency of each pair (or tuple)\n",
    "        theta: weight vector of dimension (3, 1)\n",
    "    Output: \n",
    "        accuracy: (# of tweets classified correctly) / (total # of tweets)\n",
    "    \"\"\"\n",
    "    y_hat = []\n",
    "    \n",
    "    for tweet in test_x:\n",
    "        y_pred = predict_tweet(tweet, freqs, theta)\n",
    "        \n",
    "        if y_pred > 0.5: y_hat.append(1.0)\n",
    "        else: y_hat.append(0.0)\n",
    "    accuracy = sum(np.asarray(y_hat) == np.squeeze(test_y))/test_y.shape[0]\n",
    "    return accuracy"
   ]
  },
  {
   "cell_type": "code",
   "execution_count": 192,
   "metadata": {},
   "outputs": [
    {
     "data": {
      "text/plain": [
       "0.9945"
      ]
     },
     "execution_count": 192,
     "metadata": {},
     "output_type": "execute_result"
    }
   ],
   "source": [
    "# out of sample test\n",
    "test_logistic_regression(test_x, test_y, freqs, theta)"
   ]
  },
  {
   "cell_type": "code",
   "execution_count": 193,
   "metadata": {},
   "outputs": [
    {
     "data": {
      "text/plain": [
       "0.994875"
      ]
     },
     "execution_count": 193,
     "metadata": {},
     "output_type": "execute_result"
    }
   ],
   "source": [
    "# in sample test\n",
    "test_logistic_regression(train_x, train_y, freqs, theta)"
   ]
  },
  {
   "cell_type": "markdown",
   "metadata": {},
   "source": [
    "## Error analysis\n",
    "1. for the miss classifyed models, print original   \n",
    "?maybe braindot is not a positive word?"
   ]
  },
  {
   "cell_type": "code",
   "execution_count": 198,
   "metadata": {},
   "outputs": [
    {
     "name": "stdout",
     "output_type": "stream",
     "text": [
      "Truth Predicted Tweet\n",
      "[1.] 0.0 [\"i'm\", 'play', 'brain', 'dot', 'braindot']\n",
      "[1.] 0.0 [\"i'm\", 'play', 'brain', 'dot', 'braindot']\n",
      "[1.] 0.0 [\"i'm\", 'play', 'brain', 'dot', 'braindot']\n",
      "[1.] 0.0 ['uff', 'itna', 'miss', 'karhi', 'thi', 'ap', ':p']\n",
      "[0.] 1.0 ['u', 'prob', 'fun', 'david']\n",
      "[0.] 1.0 ['pat', 'jay']\n",
      "[0.] 1.0 ['whatev', 'stil', 'l', 'young', '>:-(']\n",
      "[0.] 1.0 ['belov', 'grandmoth']\n",
      "[0.] 1.0 ['that', 'life', 'get', 'call', 'peopl', 'havent', 'seen', '20', 'year', 'alway', 'favour']\n",
      "[0.] 1.0 ['sr', 'financi', 'analyst', 'expedia', 'inc', 'bellevu', 'wa', 'financ', 'expediajob', 'job', 'job', 'hire']\n",
      "[0.] 1.0 ['midland', 'ye', 'thank', 'depress', 'weather', 'forecast', 'word', 'rain', 'mention', 'sever', 'time', ':-(']\n"
     ]
    }
   ],
   "source": [
    "print('Truth Predicted Tweet')\n",
    "for x,y in zip(test_x, test_y):\n",
    "    p = predict_tweet(x, freqs, theta)\n",
    "    y_hat_i = 1.0 if p>0.5 else 0.0\n",
    "    if y != y_hat_i: \n",
    "        print(y, y_hat_i, process_tweet(x))"
   ]
  },
  {
   "cell_type": "code",
   "execution_count": null,
   "metadata": {},
   "outputs": [],
   "source": []
  }
 ],
 "metadata": {
  "kernelspec": {
   "display_name": "Python 3",
   "language": "python",
   "name": "python3"
  },
  "language_info": {
   "codemirror_mode": {
    "name": "ipython",
    "version": 3
   },
   "file_extension": ".py",
   "mimetype": "text/x-python",
   "name": "python",
   "nbconvert_exporter": "python",
   "pygments_lexer": "ipython3",
   "version": "3.7.9"
  }
 },
 "nbformat": 4,
 "nbformat_minor": 4
}
